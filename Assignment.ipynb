{
 "cells": [
  {
   "cell_type": "markdown",
   "metadata": {},
   "source": [
    "2.1 Problem Statement: PYTHON 1"
   ]
  },
  {
   "cell_type": "markdown",
   "metadata": {},
   "source": [
    "1. Install Jupyter notebook and run the first program and share the screenshot of the output."
   ]
  },
  {
   "cell_type": "code",
   "execution_count": 16,
   "metadata": {},
   "outputs": [
    {
     "name": "stdout",
     "output_type": "stream",
     "text": [
      "Enter input: jammu and kashmir\n",
      "jammu and kashmir\n"
     ]
    }
   ],
   "source": [
    "a=input('Enter input: ')\n",
    "print(a)"
   ]
  },
  {
   "cell_type": "markdown",
   "metadata": {},
   "source": [
    "2. Write a program that will find all such numbers which are divisible by 7 but are not a multiple of 5 between 2000 and 3200 (both included). The numbers obtained should be printed in a comma-separated sequence on a single line."
   ]
  },
  {
   "cell_type": "code",
   "execution_count": 4,
   "metadata": {},
   "outputs": [
    {
     "name": "stdout",
     "output_type": "stream",
     "text": [
      "[2002, 2009, 2016, 2023, 2037, 2044, 2051, 2058, 2072, 2079, 2086, 2093, 2107, 2114, 2121, 2128, 2142, 2149, 2156, 2163, 2177, 2184, 2191, 2198, 2212, 2219, 2226, 2233, 2247, 2254, 2261, 2268, 2282, 2289, 2296, 2303, 2317, 2324, 2331, 2338, 2352, 2359, 2366, 2373, 2387, 2394, 2401, 2408, 2422, 2429, 2436, 2443, 2457, 2464, 2471, 2478, 2492, 2499, 2506, 2513, 2527, 2534, 2541, 2548, 2562, 2569, 2576, 2583, 2597, 2604, 2611, 2618, 2632, 2639, 2646, 2653, 2667, 2674, 2681, 2688, 2702, 2709, 2716, 2723, 2737, 2744, 2751, 2758, 2772, 2779, 2786, 2793, 2807, 2814, 2821, 2828, 2842, 2849, 2856, 2863, 2877, 2884, 2891, 2898, 2912, 2919, 2926, 2933, 2947, 2954, 2961, 2968, 2982, 2989, 2996, 3003, 3017, 3024, 3031, 3038, 3052, 3059, 3066, 3073, 3087, 3094, 3101, 3108, 3122, 3129, 3136, 3143, 3157, 3164, 3171, 3178, 3192, 3199]\n"
     ]
    }
   ],
   "source": [
    "a=[]\n",
    "\n",
    "for i in range(2000,3201):\n",
    "    if i%7==0:\n",
    "        if i%5!=0:\n",
    "            a.append(i)\n",
    "\n",
    "print(a)"
   ]
  },
  {
   "cell_type": "markdown",
   "metadata": {},
   "source": [
    "3. Write a Python program to accept user's first and last name and then getting them printed in the reverse order with a space between first and last name."
   ]
  },
  {
   "cell_type": "code",
   "execution_count": 1,
   "metadata": {},
   "outputs": [
    {
     "name": "stdout",
     "output_type": "stream",
     "text": [
      "Enter your first name: john\n",
      "Enter your last name: doe\n",
      "Your name in reverse order:  nhoj   eod\n"
     ]
    }
   ],
   "source": [
    "a=input('Enter your first name: ')\n",
    "b=input('Enter your last name: ')\n",
    "a=a[::-1]\n",
    "b=b[::-1]\n",
    "print('Your name in reverse order: ', a,' ',b)"
   ]
  },
  {
   "cell_type": "markdown",
   "metadata": {},
   "source": [
    "4. Write a Python program to find out the volume of a sphere with diameter 12 cm."
   ]
  },
  {
   "cell_type": "code",
   "execution_count": 6,
   "metadata": {},
   "outputs": [
    {
     "name": "stdout",
     "output_type": "stream",
     "text": [
      "Diameter of sphere is 12 cm.\n",
      "Its volume is  904.7786842338603  cubic cm.\n"
     ]
    }
   ],
   "source": [
    "from math import pi\n",
    "print('Diameter of sphere is 12 cm.')\n",
    "V=(4/3)*pi*(6**3)\n",
    "print('Its volume is ',V,' cubic cm.')"
   ]
  },
  {
   "cell_type": "markdown",
   "metadata": {},
   "source": [
    "2.2 Problem Statement: PYTHON 2"
   ]
  },
  {
   "cell_type": "markdown",
   "metadata": {},
   "source": [
    "1. Write a program that accepts a sequence of comma-separated numbers from console and generate a list."
   ]
  },
  {
   "cell_type": "code",
   "execution_count": 2,
   "metadata": {},
   "outputs": [
    {
     "name": "stdout",
     "output_type": "stream",
     "text": [
      "Enter some numbers seperated by comma: 3,8,0,3\n",
      "List of numbers:  [3, 8, 0, 3]\n"
     ]
    }
   ],
   "source": [
    "a=input('Enter some numbers seperated by comma: ')\n",
    "b=a.split(',')\n",
    "for i in range(len(b)):\n",
    "    b[i]=int(b[i])\n",
    "print('List of numbers: ', b)"
   ]
  },
  {
   "cell_type": "markdown",
   "metadata": {},
   "source": [
    "2. Create the below pattern using nested for loop in Python."
   ]
  },
  {
   "cell_type": "code",
   "execution_count": 1,
   "metadata": {},
   "outputs": [
    {
     "name": "stdout",
     "output_type": "stream",
     "text": [
      "\n",
      "*\n",
      "**\n",
      "***\n",
      "****\n",
      "*****\n",
      "****\n",
      "***\n",
      "**\n",
      "*\n"
     ]
    }
   ],
   "source": [
    "for j in range(6):\n",
    "    print('*'*j)\n",
    "    if j==5:\n",
    "        for j in range(4,0,-1):\n",
    "            print('*'*j)"
   ]
  },
  {
   "cell_type": "markdown",
   "metadata": {},
   "source": [
    "3. Write a Python program to reverse a word after accepting input from the user."
   ]
  },
  {
   "cell_type": "code",
   "execution_count": 2,
   "metadata": {},
   "outputs": [
    {
     "name": "stdout",
     "output_type": "stream",
     "text": [
      "Enter a word: hindalco\n",
      "Word in reverse order:  ocladnih\n"
     ]
    }
   ],
   "source": [
    "a=input('Enter a word: ')\n",
    "print('Word in reverse order: ', a[::-1])"
   ]
  },
  {
   "cell_type": "markdown",
   "metadata": {},
   "source": [
    "4. Write a Python program to print the given string in the format specified in the sample output."
   ]
  },
  {
   "cell_type": "code",
   "execution_count": 9,
   "metadata": {},
   "outputs": [
    {
     "name": "stdout",
     "output_type": "stream",
     "text": [
      "WE, THE PEOPLE OF INDIA,\n",
      "\t having solemnly resolved to constitue India into a SOVEREIGN,!\n",
      "\t\t SOCIALIST, SECULAR, DEMOCRATIC\n",
      "\t\t  REPUBLIC and to secure all its citizens\n"
     ]
    }
   ],
   "source": [
    "a='WE, THE PEOPLE OF INDIA,{} having solemnly resolved to constitue India into a SOVEREIGN,{} SOCIALIST, SECULAR, DEMOCRATIC{} REPUBLIC and to secure all its citizens'\n",
    "print(a.format('\\n\\t','!\\n\\t\\t','\\n\\t\\t '))"
   ]
  },
  {
   "cell_type": "markdown",
   "metadata": {},
   "source": [
    "2.3 Problem Statement: PYTHON 3"
   ]
  },
  {
   "cell_type": "markdown",
   "metadata": {},
   "source": [
    "1.1 Write a Python program to implement your own myreduce() function that works exactly like Python's built-in function reduce()."
   ]
  },
  {
   "cell_type": "code",
   "execution_count": 4,
   "metadata": {},
   "outputs": [
    {
     "data": {
      "text/plain": [
       "3288"
      ]
     },
     "execution_count": 4,
     "metadata": {},
     "output_type": "execute_result"
    }
   ],
   "source": [
    "sequence = range(45,234,8)\n",
    "\n",
    "def sum(a,b):\n",
    "    return a+b\n",
    "\n",
    "def myreduce(func, seq):\n",
    "    seq=list(seq)\n",
    "    a=seq[0]\n",
    "    for i in range(1,len(seq),1):\n",
    "        a=func(a,seq[i])\n",
    "    return a\n",
    "\n",
    "myreduce(sum,sequence)"
   ]
  },
  {
   "cell_type": "markdown",
   "metadata": {},
   "source": [
    "1.2 Write a Python program to implement your own myfilter() function that works exactly like Python's built-in function filter()."
   ]
  },
  {
   "cell_type": "code",
   "execution_count": 6,
   "metadata": {},
   "outputs": [
    {
     "data": {
      "text/plain": [
       "[0, 2, 4, 6, 8, 10, 12, 14, 16, 18]"
      ]
     },
     "execution_count": 6,
     "metadata": {},
     "output_type": "execute_result"
    }
   ],
   "source": [
    "sequence =range(20)\n",
    "\n",
    "def even_check(num):\n",
    "    if num%2==0:\n",
    "        return True\n",
    "    \n",
    "def myfilter(func, seq):\n",
    "    a=[]\n",
    "    seq=list(seq)\n",
    "    for i in seq:\n",
    "        if func(i):\n",
    "            a.append(i)\n",
    "    return a\n",
    "    \n",
    "myfilter(even_check, sequence)"
   ]
  },
  {
   "cell_type": "markdown",
   "metadata": {},
   "source": [
    "2. Implement list comprehensions to produce following lists."
   ]
  },
  {
   "cell_type": "code",
   "execution_count": 1,
   "metadata": {},
   "outputs": [
    {
     "name": "stdout",
     "output_type": "stream",
     "text": [
      "['A', 'C', 'A', 'D', 'G', 'I', 'L', 'D']\n"
     ]
    }
   ],
   "source": [
    "l='ACADGILD'\n",
    "x=[i for i in l]\n",
    "print(x)"
   ]
  },
  {
   "cell_type": "code",
   "execution_count": 9,
   "metadata": {},
   "outputs": [
    {
     "name": "stdout",
     "output_type": "stream",
     "text": [
      "['x', 'xx', 'xxx', 'xxxx', 'y', 'yy', 'yyy', 'yyyy', 'z', 'zz', 'zzz', 'zzzz']\n"
     ]
    }
   ],
   "source": [
    "input_list=['x','y','z']\n",
    "output_list=[data*num for data in input_list for num in range(1,5)]\n",
    "print(output_list)"
   ]
  },
  {
   "cell_type": "code",
   "execution_count": null,
   "metadata": {},
   "outputs": [],
   "source": []
  },
  {
   "cell_type": "code",
   "execution_count": 8,
   "metadata": {},
   "outputs": [
    {
     "name": "stdout",
     "output_type": "stream",
     "text": [
      "[[2], [3], [4], [3], [4], [5], [4], [5], [6]]\n"
     ]
    }
   ],
   "source": [
    "input_list = [1,2,3]\n",
    "output_list = [[i+num] for i in input_list for num in range(1,4)]\n",
    "print(output_list)"
   ]
  },
  {
   "cell_type": "code",
   "execution_count": null,
   "metadata": {},
   "outputs": [],
   "source": []
  },
  {
   "cell_type": "code",
   "execution_count": null,
   "metadata": {},
   "outputs": [],
   "source": []
  },
  {
   "cell_type": "markdown",
   "metadata": {},
   "source": [
    "3. Implement a function longestWord() that takes a list of words and returns the longest one."
   ]
  },
  {
   "cell_type": "code",
   "execution_count": null,
   "metadata": {},
   "outputs": [],
   "source": [
    "def longestWord(l):\n",
    "    a=0\n",
    "    for i in l:\n",
    "        if(len(i)>a):\n",
    "            a=len(i)\n",
    "            b=i\n",
    "    return b\n",
    "\n",
    "l=['ss','ajkjl','gkgjgkgu','adaf']\n",
    "\n",
    "print(longestWord(l))"
   ]
  },
  {
   "cell_type": "markdown",
   "metadata": {},
   "source": [
    "2.4 Problem Statement: PYTHON 4"
   ]
  },
  {
   "cell_type": "markdown",
   "metadata": {},
   "source": [
    "1.1 Write a Python program (with class concepts) to find the area of a triangle using the below formula.\n",
    "\n",
    "area = (s*(s-a)*(s-b)*(s-c))*** 0.5\n",
    "\n",
    "Function to take length of sides of the traingle from the user should be defined in the parent class and function to calculate area should be defined in the sub-class."
   ]
  },
  {
   "cell_type": "code",
   "execution_count": null,
   "metadata": {},
   "outputs": [],
   "source": []
  },
  {
   "cell_type": "markdown",
   "metadata": {},
   "source": [
    "1.2 Write a function filter_long_words() that takes a list of words and an integer n and returns list of words that are longer than n."
   ]
  },
  {
   "cell_type": "code",
   "execution_count": null,
   "metadata": {},
   "outputs": [],
   "source": [
    "def filter_long_words(l,n):\n",
    "    return [i for i in l if len(i)>n]\n",
    "\n",
    "print(filter_long_words(l,4))"
   ]
  },
  {
   "cell_type": "markdown",
   "metadata": {},
   "source": [
    "2.1 Write a Python program using function concept that maps a list of words into a list of integers representing length of corresponding words."
   ]
  },
  {
   "cell_type": "code",
   "execution_count": 12,
   "metadata": {},
   "outputs": [
    {
     "name": "stdout",
     "output_type": "stream",
     "text": [
      "Enter some words: apple boy cat dog egg\n",
      "List of words:  ['apple', 'boy', 'cat', 'dog', 'egg']\n",
      "Corresponding list of integers:  [5, 3, 3, 3, 3]\n"
     ]
    }
   ],
   "source": [
    "a=input('Enter some words: ')\n",
    "b=list(a.split(' '))\n",
    "print('List of words: ',b)\n",
    "def map_length(l):\n",
    "    return [len(i) for i in l]\n",
    "print('Corresponding list of integers: ',map_length(b))"
   ]
  },
  {
   "cell_type": "markdown",
   "metadata": {},
   "source": [
    "2.2 Write a Python function that takes a character (i.e. a string of length 1) and returns True if it is a vowel, False otherwise."
   ]
  },
  {
   "cell_type": "code",
   "execution_count": 13,
   "metadata": {},
   "outputs": [],
   "source": [
    "def is_vowel(a):\n",
    "    b='aeiou'\n",
    "    c=False\n",
    "    for i in b:\n",
    "        if a==i:\n",
    "            c=True\n",
    "    return c"
   ]
  },
  {
   "cell_type": "markdown",
   "metadata": {},
   "source": [
    "2.5 Problem Statement: PYTHON 5"
   ]
  },
  {
   "cell_type": "markdown",
   "metadata": {},
   "source": [
    "1. Write a function to compute 5/0 and use try/except to catch exceptions."
   ]
  },
  {
   "cell_type": "code",
   "execution_count": 14,
   "metadata": {},
   "outputs": [],
   "source": [
    "def func():\n",
    "    try:\n",
    "        5/0\n",
    "    except:\n",
    "        print('Cannot divide a number by 0')"
   ]
  },
  {
   "cell_type": "markdown",
   "metadata": {},
   "source": [
    "2. Implement a Python program to generate all sentences where subject is in [\"Americans\", \"Indians\"], verb is in [\"play\", \"watch\"] and object is in [\"baseball\", \"cricket\"]."
   ]
  },
  {
   "cell_type": "code",
   "execution_count": 15,
   "metadata": {},
   "outputs": [
    {
     "name": "stdout",
     "output_type": "stream",
     "text": [
      "Americans play baseball.\n",
      "Americans play cricket.\n",
      "Americans watch baseball.\n",
      "Americans watch cricket.\n",
      "Indians play baseball.\n",
      "Indians play cricket.\n",
      "Indians watch baseball.\n",
      "Indians watch cricket.\n"
     ]
    }
   ],
   "source": [
    "subjects=['Americans','Indians']\n",
    "verbs=['play','watch']\n",
    "objects=['baseball','cricket']\n",
    "def all_sentences():\n",
    "    for i in subjects:\n",
    "        for j in verbs:\n",
    "            for k in objects:\n",
    "                print(\"{} {} {}.\".format(i,j,k))\n",
    "all_sentences()"
   ]
  }
 ],
 "metadata": {
  "kernelspec": {
   "display_name": "Python 3",
   "language": "python",
   "name": "python3"
  },
  "language_info": {
   "codemirror_mode": {
    "name": "ipython",
    "version": 3
   },
   "file_extension": ".py",
   "mimetype": "text/x-python",
   "name": "python",
   "nbconvert_exporter": "python",
   "pygments_lexer": "ipython3",
   "version": "3.7.1"
  }
 },
 "nbformat": 4,
 "nbformat_minor": 2
}
